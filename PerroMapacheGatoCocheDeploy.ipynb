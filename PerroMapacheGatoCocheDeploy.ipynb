{
 "cells": [
  {
   "cell_type": "code",
   "execution_count": null,
   "id": "mobile-mailing",
   "metadata": {},
   "outputs": [],
   "source": [
    "#hide\n",
    "!pip install -Uqq fastbook\n",
    "!pip install voila\n",
    "!jupyter serverextension enable --sys-prefix voila\n",
    "import fastbook\n",
    "fastbook.setup_book()\n",
    "from fastbook import *\n",
    "from fastai.vision.widgets import *"
   ]
  },
  {
   "cell_type": "code",
   "execution_count": 4,
   "id": "specific-connectivity",
   "metadata": {},
   "outputs": [],
   "source": [
    "learn_inf = load_learner('export.pkl')"
   ]
  },
  {
   "cell_type": "code",
   "execution_count": null,
   "id": "initial-theater",
   "metadata": {},
   "outputs": [],
   "source": [
    "from fastai import *\n",
    "btn_upload = vision.widgets.FileUpload()\n",
    "out_pl = vision.widgets.Output()\n",
    "btn_run = vision.widgets.Button(description='Clasificar')\n",
    "lbl_prediction_a = widgets.Label()\n",
    "lbl_prediction_b = widgets.Label()"
   ]
  },
  {
   "cell_type": "code",
   "execution_count": null,
   "id": "invisible-grade",
   "metadata": {},
   "outputs": [],
   "source": [
    "def on_click_classify(change):\n",
    "    img = PILImage.create(btn_upload.data[0])\n",
    "    out_pl.clear_output()\n",
    "    with out_pl: display(img.to_thumb(128,128))\n",
    "    res_category,res_idx,res_probs = learn_inf.predict(img)\n",
    "    lbl_prediction_a.value = f'Predicción: {res_category}, probabilidad: {(res_probs[res_idx]*100.0):.02f}%'    \n",
    "    lbl_prediction_b.value = f'Coche: {(res_probs[0]*100.0):.02f}% '\n",
    "    lbl_prediction_b.value += f'Estafa: {(res_probs[1]*100.0):.02f}% '\n",
    "    lbl_prediction_b.value += f'Gato: {(res_probs[2]*100.0):.02f}% '\n",
    "    lbl_prediction_b.value += f'Mapache: {(res_probs[3]*100.0):.02f}% '\n",
    "    lbl_prediction_b.value += f'Perro: {(res_probs[4]*100.0):.02f}% '  \n",
    "btn_run.on_click(on_click_classify)"
   ]
  },
  {
   "cell_type": "code",
   "execution_count": null,
   "id": "composite-sauce",
   "metadata": {},
   "outputs": [],
   "source": [
    "#hide_output\n",
    "print(btn_upload)\n",
    "print(btn_run)\n",
    "print(out_pl)\n",
    "print(lbl_prediction_a)\n",
    "print(lbl_prediction_b)\n",
    "VBox([widgets.Label('Selecciona tu cosa'), \n",
    "      btn_upload, btn_run, out_pl, lbl_prediction_a,lbl_prediction_b])"
   ]
  }
 ],
 "metadata": {
  "kernelspec": {
   "display_name": "Python 3",
   "language": "python",
   "name": "python3"
  },
  "language_info": {
   "codemirror_mode": {
    "name": "ipython",
    "version": 3
   },
   "file_extension": ".py",
   "mimetype": "text/x-python",
   "name": "python",
   "nbconvert_exporter": "python",
   "pygments_lexer": "ipython3",
   "version": "3.7.9"
  }
 },
 "nbformat": 4,
 "nbformat_minor": 5
}
